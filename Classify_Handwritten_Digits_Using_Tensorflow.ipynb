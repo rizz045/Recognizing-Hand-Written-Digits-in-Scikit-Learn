{
  "nbformat": 4,
  "nbformat_minor": 0,
  "metadata": {
    "colab": {
      "provenance": []
    },
    "kernelspec": {
      "name": "python3",
      "display_name": "Python 3"
    },
    "language_info": {
      "name": "python"
    }
  },
  "cells": [
    {
      "cell_type": "markdown",
      "source": [
        "The data set is called MINST data set."
      ],
      "metadata": {
        "id": "IGLnaUYs_XlQ"
      }
    },
    {
      "cell_type": "code",
      "execution_count": 14,
      "metadata": {
        "id": "a8VEzXxe-DqK"
      },
      "outputs": [],
      "source": [
        "# Importing important libraries\n",
        "import numpy as np\n",
        "import matplotlib.pyplot as plt\n",
        "import tensorflow as tf"
      ]
    },
    {
      "cell_type": "code",
      "source": [
        "# Loading the MINST dataset\n",
        "minst = tf.keras.datasets.mnist.load_data()\n",
        "\n",
        "# Split into training and testing sets\n",
        "(x_train, y_train),(x_test, y_test) = minst\n",
        "\n",
        "#Normalizing the pixel values to range from 0 to 1\n",
        "x_train, x_test = x_train/255.0, x_test/255.0"
      ],
      "metadata": {
        "id": "lvSq0n2c_7FC"
      },
      "execution_count": 18,
      "outputs": []
    },
    {
      "cell_type": "code",
      "source": [
        "# Showing the first image with it's label\n",
        "plt.imshow(x_train[0], cmap='Blues')\n",
        "plt.title(f\"Label: {y_train[0]}\")\n",
        "plt.show()"
      ],
      "metadata": {
        "colab": {
          "base_uri": "https://localhost:8080/",
          "height": 452
        },
        "id": "O-t8d65LFTbh",
        "outputId": "7892903c-6bbf-497d-e317-a2504782880c"
      },
      "execution_count": 25,
      "outputs": [
        {
          "output_type": "display_data",
          "data": {
            "text/plain": [
              "<Figure size 640x480 with 1 Axes>"
            ],
            "image/png": "[encoded data removed]"
          },
          "metadata": {}
        }
      ]
    },
    {
      "cell_type": "code",
      "source": [],
      "metadata": {
        "id": "yytjbNYUD7w1"
      },
      "execution_count": 25,
      "outputs": []
    },
    {
      "cell_type": "code",
      "source": [
        ""
      ],
      "metadata": {
        "id": "x0JGtdtLC-JL"
      },
      "execution_count": 25,
      "outputs": []
    },
    {
      "cell_type": "code",
      "source": [],
      "metadata": {
        "id": "J6PUBKI4DCJT"
      },
      "execution_count": null,
      "outputs": []
    }
  ]
}